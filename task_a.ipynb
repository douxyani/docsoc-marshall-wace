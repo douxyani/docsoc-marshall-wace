{
  "cells": [
    {
      "cell_type": "markdown",
      "id": "04c50b11",
      "metadata": {
        "id": "04c50b11"
      },
      "source": [
        "# Task A: DataFrames in plain Python\n",
        "\n",
        "At Marshall Wace, we make decisions based on data, so tools for analysing it are something we spend a lot of time with. One of the building blocks of data engineering is a DataFrame which is a tabular structure that organises data into rows and columns. Many datasets can very naturally fit into this 2d structure which makes DataFrames incredibly useful for manipulation, analysis, and visualisation.\n",
        "\n",
        "There are many common libraries which implement this functionality and one of the commonly used ones is Pandas. For today's task, we will ask you to reimplement DataFrames in plain Python code, thinking about correctness, elegant design, and performance. We'll aim for a minimal implementation which can achieve the basic operations required for data manipulation but there is plenty of scope for extensions and optimisations!\n",
        "\n",
        "Don't worry if you don't know Pandas or feel unsure about programming in general!"
      ]
    },
    {
      "cell_type": "markdown",
      "id": "7f442094",
      "metadata": {
        "id": "7f442094"
      },
      "source": [
        "## Requirements\n",
        "A `DataFrame` is a 2d tabular data structure. It can be thought of as a collection of named columns, which can be naturally represented by a dictionary of names to `Series`.\n",
        "\n",
        "A `Series` is a 1d collection which can be likened to a list or a vector of elements. Comparison and logical operators on `Series` is what makes `DataFrame`s so powerful. One thing that frustrates many data engineers using Pandas is how lousy it can be with type safety and treating `None` values. Thus, we encourage you to build your solution with those in mind.   \n",
        "\n",
        "There is nothing more frustrating when you want to quickly analyse some data and iterate on some approach but you have to wait a couple of minutes every time you run your script. Hence, efficiency is another aspect you'd ideally consider, either through some explicit optimisations or comments signifying 'hot spots', or parts of the code which the program spends the most time on.\n",
        "\n",
        "## Spec\n",
        "### Series\n",
        "We want you to implement `Series` for `string`s, `bool`s, `int`s, and `float`s. This should give us a good range of functionality while keeping the implementation reasonably simple. Feel free to do everything in one class, create a separate class for each, use inheritence, or whatever you think is best. In terms of functionality of each `Series`:\n",
        "- you'll want to be able to initialise it with a list of elements, each of which can be of the given type or `None`\n",
        "- each `Series` should be immutable and operations should return a new `Series` object\n",
        "- you should be able to read the element at a given index, as well as the lenght of a `Series`\n",
        "- you should be able to use equality operators (`==`, `!=`) which return a boolean `Series` with elements equal to the element-wise operator results\n",
        "- for the `Series` pairs which make sense, you should implement element-wise boolean operators (`|`, `&`,  `~`, `^`) and comparison operators (`<`, `>`, `<=`, `>=`) which also result in a boolean `Series`. Think carefully about how you want to handle `None`. Where appropriate, also add operators which work between a `Series` and a variable\n",
        "    - for instance `[1, 2, 3, 4] < 3` should return something like `[True, True, False, False]`\n",
        "- for convenience, it would be nice to be able to print the `Series` nicely formatted\n",
        "- (bonus) you can implement some aggregation methods which are commonly found in data analysis like `sum()`, `count()`, `mean()` or filtering capabilities\n",
        "\n",
        "### DataFrame\n",
        "With a solid `Series` implementation, we can start working on the `DataFrame`s\n",
        "- you should be able to initialise a `DataFrame` with a dictionary of names and `Series`\n",
        "- `DataFrame`s should be immutable and operators should return a new `DataFrame` as appropriate\n",
        "- they should be indexed by boolean `Series` which allows you to write code such as `df[(df[\"name\"] != \"Joe\") & (df[\"age\"] > 21)]`\n",
        "- for convenience, it would be nice to be able to pretty print the `DataFrame`s in a 2d form with middle rows and columns redacted for readability\n",
        "- (bonus) you can implement some `DataFrame`-wide aggregation, filtering, pivoting, or any of the common operations which make sense for a 2d table. Get creative!\n"
      ]
    },
    {
      "cell_type": "markdown",
      "id": "a2346a45c7088fc1",
      "metadata": {
        "id": "a2346a45c7088fc1"
      },
      "source": [
        "# Some basic implementation\n",
        "\n",
        "Below you can find partial implementation of two classes, `BooleanSeries` and `StringSeries`, which represent series of boolean and string values, respectively. These classes offer basic functionality for creating and comparing series of data, just to give you a taste of what we're looking for. What we have now:\n",
        "\n",
        "- `BooleanSeries`: Initialises a series of boolean values, with input validation\n",
        "- `StringSeries`: Initialises a series of string values, with input validation\n",
        "- Equality comparison (`__eq__`) between two `StringSeries` objects, returning a `BooleanSeries`\n",
        "- Basic indexing for `StringSeries` using `__getitem__`\n",
        "- String representation for both classes\n",
        "- `DataFrame`: Initialises a dataframe of series, with input validation\n",
        "- From CSV to handle file loading `from_csv` of CSV's into Dataframe\n",
        "- Basic column manipulation such as indexing `__getitem__`, adding columns `add_column` etc\n",
        "- Pretty printing of columnar wise data with `__str__`"
      ]
    },
    {
      "cell_type": "code",
      "execution_count": null,
      "id": "316812a4ac277a21",
      "metadata": {
        "ExecuteTime": {
          "end_time": "2025-02-25T21:56:44.740775Z",
          "start_time": "2025-02-25T21:56:44.733412Z"
        },
        "id": "316812a4ac277a21"
      },
      "outputs": [],
      "source": [
        "from typing import Union\n",
        "import base64\n",
        "import csv\n",
        "import os"
      ]
    },
    {
      "cell_type": "code",
      "execution_count": null,
      "id": "b4a6c99b8532f5f0",
      "metadata": {
        "ExecuteTime": {
          "end_time": "2025-02-25T21:56:44.900693Z",
          "start_time": "2025-02-25T21:56:44.896607Z"
        },
        "id": "b4a6c99b8532f5f0"
      },
      "outputs": [],
      "source": [
        "class BooleanSeries:\n",
        "    _items: list[bool]\n",
        "\n",
        "    def __init__(self, items: list[bool]):\n",
        "        for item in items:\n",
        "            if not isinstance(item, Union[bool, None]):\n",
        "                raise ValueError(f\"Item in Series is not of type Boolean or None, and instead is `{type(item)}`.\")\n",
        "\n",
        "        self._items = items\n",
        "        sdfsd\n",
        "    def __str__(self):\n",
        "        return self._items.__str__()"
      ]
    },
    {
      "cell_type": "code",
      "execution_count": null,
      "id": "aa24884b2fa072c9",
      "metadata": {
        "ExecuteTime": {
          "end_time": "2025-02-25T21:56:45.083241Z",
          "start_time": "2025-02-25T21:56:45.077540Z"
        },
        "id": "aa24884b2fa072c9"
      },
      "outputs": [],
      "source": [
        "class StringSeries:\n",
        "    def __init__(self, items: list[str]):\n",
        "        for item in items:\n",
        "            if not isinstance(item, Union[str, None]):\n",
        "                raise ValueError(f\"Item in Series is not of type String or None, and instead is `{type(item)}`.\")\n",
        "\n",
        "        self._items = items\n",
        "\n",
        "    def __eq__(self, other)-> BooleanSeries:\n",
        "        new_series = []\n",
        "        if not isinstance(other, StringSeries):\n",
        "            raise ValueError(f\"Comparison of series on a different type is not allowed. Expected a StringSeries, got `{type(other)}` instead.\")\n",
        "\n",
        "        for index, item in enumerate(self._items):\n",
        "            new_series.append(item == other[index])\n",
        "\n",
        "        return BooleanSeries(items=new_series)\n",
        "\n",
        "    def __getitem__(self, item):\n",
        "        return self._items[item]\n",
        "\n",
        "    def __str__(self):\n",
        "        return self._items.__str__()\n",
        ""
      ]
    },
    {
      "cell_type": "code",
      "execution_count": null,
      "id": "92c37c0f407c621b",
      "metadata": {
        "ExecuteTime": {
          "end_time": "2025-02-25T21:56:45.226898Z",
          "start_time": "2025-02-25T21:56:45.219004Z"
        },
        "id": "92c37c0f407c621b"
      },
      "outputs": [],
      "source": [
        "string1 = StringSeries(items=[\"a\", \"b\", \"c\", None])\n",
        "string2 = StringSeries(items=[\"a\", \"b\", \"d\", None])\n",
        "result = (string1 == string2)\n",
        "print(result)\n"
      ]
    },
    {
      "cell_type": "code",
      "execution_count": null,
      "id": "c21d39ddc78b7e95",
      "metadata": {
        "ExecuteTime": {
          "end_time": "2025-02-25T21:56:45.433862Z",
          "start_time": "2025-02-25T21:56:45.419218Z"
        },
        "id": "c21d39ddc78b7e95"
      },
      "outputs": [],
      "source": [
        "class DataFrame:\n",
        "    def __init__(self, data: dict):\n",
        "        self._columns = {}\n",
        "        for key, value in data.items():\n",
        "            if isinstance(value, (BooleanSeries, StringSeries)):\n",
        "                self._columns[key] = value\n",
        "            else:\n",
        "                raise ValueError(f\"Column '{key}' must be a BooleanSeries or StringSeries\")\n",
        "\n",
        "    def __getitem__(self, key):\n",
        "        return self._columns[key]\n",
        "\n",
        "    def __setitem__(self, key, value):\n",
        "        if isinstance(value, (BooleanSeries, StringSeries)):\n",
        "            self._columns[key] = value\n",
        "        else:\n",
        "            raise ValueError(f\"Column '{key}' must be a BooleanSeries or StringSeries\")\n",
        "\n",
        "\n",
        "    def __str__(self):\n",
        "        if not self._columns:\n",
        "            return \"Empty DataFrame\"\n",
        "        col_names = list(self._columns.keys())\n",
        "        col_widths = {col: max(len(col), max(len(str(item)) for item in self._columns[col]._items)) for col in col_names}\n",
        "        header = \"  \".join(col.ljust(col_widths[col]) for col in col_names)\n",
        "        separator = \"-\" * len(header)\n",
        "        rows = []\n",
        "        for i in range(len(next(iter(self._columns.values()))._items)):\n",
        "            row = \"  \".join(str(self._columns[col]._items[i]).ljust(col_widths[col]) for col in col_names)\n",
        "            rows.append(row)\n",
        "        return \"\\n\".join([header, separator] + rows)\n",
        "\n",
        "    def add_column(self, name: str, series):\n",
        "        if isinstance(series, (BooleanSeries, StringSeries)):\n",
        "            self._columns[name] = series\n",
        "        else:\n",
        "            raise ValueError(f\"Column '{name}' must be a BooleanSeries or StringSeries\")\n",
        "\n",
        "    def remove_column(self, name: str):\n",
        "        if name in self._columns:\n",
        "            del self._columns[name]\n",
        "        else:\n",
        "            raise KeyError(f\"Column '{name}' not found in DataFrame\")\n",
        "\n",
        "    def get_column_names(self):\n",
        "        return list(self._columns.keys())\n",
        "\n",
        "    def get_column(self, name: str):\n",
        "        return self._columns.get(name)\n",
        "\n",
        "    @classmethod\n",
        "    def from_csv(cls, file_path: str, delimiter: str = ',') -> 'DataFrame':\n",
        "        with open(file_path, 'r', newline='') as csvfile:\n",
        "            reader = csv.reader(csvfile, delimiter=delimiter)\n",
        "            header = next(reader)\n",
        "            columns = {col: [] for col in header}\n",
        "            for row in reader:\n",
        "                for i, value in enumerate(row):\n",
        "                    columns[header[i]].append(value)\n",
        "            data = {}\n",
        "            for col, values in columns.items():\n",
        "                if all(val.lower() in ('true', 'false', '', 'none') for val in values):\n",
        "                    bool_values = [None if val.lower() in ('', 'none') else val.lower() == 'true' for val in values]\n",
        "                    data[col] = BooleanSeries(bool_values)\n",
        "                else:\n",
        "                    str_values = [None if val == '' else val for val in values]\n",
        "                    data[col] = StringSeries(str_values)\n",
        "\n",
        "            return cls(data)"
      ]
    },
    {
      "cell_type": "markdown",
      "id": "46e8be0e",
      "metadata": {
        "id": "46e8be0e"
      },
      "source": [
        "Creating example data"
      ]
    },
    {
      "cell_type": "code",
      "execution_count": null,
      "id": "74984186",
      "metadata": {
        "id": "74984186"
      },
      "outputs": [],
      "source": [
        "CSV_ENCODED_DATA = \"Q291bnRyeSxDaXR5LElzIENhcGl0YWwKSXRhbHksVHVyaW4sRmFsc2UKSmFwYW4sS3lvdG8sVHJ1ZQpDYW5hZGEsVG9yb250byxUcnVlCkNhbmFkYSxNb250cmVhbCxUcnVlClNwYWluLFNldmlsbGUsVHJ1ZQpGcmFuY2UsUGFyaXMsVHJ1ZQpKYXBhbixLeW90byxGYWxzZQpTcGFpbixaYXJhZ296YSxGYWxzZQpJdGFseSxSb21lLFRydWUKQXVzdHJhbGlhLFBlcnRoLEZhbHNlCkF1c3RyYWxpYSxCcmlzYmFuZSxUcnVlCkZyYW5jZSxOaWNlLFRydWUKQ2FuYWRhLFZhbmNvdXZlcixGYWxzZQpKYXBhbixOYWdveWEsRmFsc2UKSmFwYW4sS3lvdG8sRmFsc2UKQ2FuYWRhLE1vbnRyZWFsLFRydWUKQ2FuYWRhLE90dGF3YSxGYWxzZQpCcmF6aWwsU8OjbyBQYXVsbyxUcnVlCkF1c3RyYWxpYSxNZWxib3VybmUsVHJ1ZQpBdXN0cmFsaWEsU3lkbmV5LFRydWUK\"\n",
        "CSV_FILE_NAME = \"countries_and_cities.csv\"\n",
        "if not os.path.isfile(CSV_FILE_NAME):\n",
        "    csv_data = base64.b64decode(CSV_ENCODED_DATA)\n",
        "    with open(CSV_FILE_NAME, 'wb') as f:\n",
        "        f.write(csv_data)"
      ]
    },
    {
      "cell_type": "code",
      "execution_count": null,
      "id": "31e9c98843fc509d",
      "metadata": {
        "ExecuteTime": {
          "end_time": "2025-02-25T21:56:46.581760Z",
          "start_time": "2025-02-25T21:56:46.573491Z"
        },
        "id": "31e9c98843fc509d"
      },
      "outputs": [],
      "source": [
        "df = DataFrame.from_csv(CSV_FILE_NAME)\n",
        "print(\"Initial DataFrame:\")\n",
        "print(df)\n",
        "print(\"\\n\")\n",
        "\n",
        "print(\"Column names:\")\n",
        "print(df.get_column_names())\n",
        "print(\"\\n\")\n",
        "\n",
        "print(\"Removing 'Population' column:\")\n",
        "df.remove_column('Country')\n",
        "print(df)\n",
        "print(\"\\n\")\n",
        "\n",
        "print(\"Accessing 'City' column:\")\n",
        "country_column = df['City']\n",
        "print(country_column)\n",
        "print(\"\\n\")\n",
        "\n",
        "print(\"Cities equal to 'Paris':\")\n",
        "cities_equal_paris = df['City'] == StringSeries(['Paris'] * len(df['City']._items))\n",
        "print(cities_equal_paris)\n",
        "print(\"\\n\")\n"
      ]
    },
    {
      "cell_type": "code",
      "execution_count": null,
      "id": "278bfcc5",
      "metadata": {
        "id": "278bfcc5"
      },
      "outputs": [],
      "source": [
        "# your code goes here"
      ]
    }
  ],
  "metadata": {
    "kernelspec": {
      "display_name": "airflow-dc2",
      "language": "python",
      "name": "python3"
    },
    "language_info": {
      "codemirror_mode": {
        "name": "ipython",
        "version": 2
      },
      "file_extension": ".py",
      "mimetype": "text/x-python",
      "name": "python",
      "nbconvert_exporter": "python",
      "pygments_lexer": "ipython2",
      "version": "3.10.15"
    },
    "colab": {
      "provenance": []
    }
  },
  "nbformat": 4,
  "nbformat_minor": 5
}